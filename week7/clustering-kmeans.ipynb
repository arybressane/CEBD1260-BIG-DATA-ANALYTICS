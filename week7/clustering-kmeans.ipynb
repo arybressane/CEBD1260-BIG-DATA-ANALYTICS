{
 "cells": [
  {
   "cell_type": "code",
   "execution_count": null,
   "metadata": {},
   "outputs": [],
   "source": [
    "# import the library\n",
    "%matplotlib inline\n",
    "\n",
    "import pandas as pd\n",
    "import numpy as np\n",
    "import collections\n",
    "import matplotlib.pyplot as plt\n",
    "import seaborn as sns\n",
    "\n",
    "from sklearn.cluster import KMeans\n",
    "from sklearn.preprocessing import StandardScaler\n",
    "from sklearn.metrics.pairwise import euclidean_distances\n",
    "\n",
    "sns.set_style('whitegrid')"
   ]
  },
  {
   "cell_type": "markdown",
   "metadata": {},
   "source": [
    "# Problem definition"
   ]
  },
  {
   "cell_type": "markdown",
   "metadata": {},
   "source": [
    "Cluster counties based on demographic and economic data\n",
    "\n",
    "https://www.kaggle.com/muonneutrino/us-census-demographic-data/data"
   ]
  },
  {
   "cell_type": "markdown",
   "metadata": {},
   "source": [
    "# Load the data"
   ]
  },
  {
   "cell_type": "code",
   "execution_count": null,
   "metadata": {},
   "outputs": [],
   "source": [
    "#input\n",
    "df = pd.read_csv('data/acs2015_county_data.csv')\n",
    "df = df.set_index(['CensusId', 'State', 'County'])\n",
    "df.head()"
   ]
  },
  {
   "cell_type": "markdown",
   "metadata": {},
   "source": [
    "# Feature Engineering "
   ]
  },
  {
   "cell_type": "code",
   "execution_count": null,
   "metadata": {},
   "outputs": [],
   "source": [
    "# remove NaNs\n",
    "df = df.dropna()\n",
    "\n",
    "# remove column\n",
    "X_columns = list(df.columns)\n",
    "if 'IncomeErr' in X_columns:\n",
    "    X_columns.remove('IncomeErr')\n",
    "if 'IncomePerCapErr' in X_columns:\n",
    "    X_columns.remove('IncomePerCapErr')\n",
    "df = df[X_columns]\n",
    "\n",
    "# normalize the columns\n",
    "df_norm = df.copy()\n",
    "for col in X_columns:\n",
    "    df_norm[col] = StandardScaler().fit_transform(df_norm[col].values.reshape(-1, 1))\n",
    "\n",
    "print(df.shape)\n",
    "df_norm.head()"
   ]
  },
  {
   "cell_type": "markdown",
   "metadata": {},
   "source": [
    "# Model Training"
   ]
  },
  {
   "cell_type": "code",
   "execution_count": null,
   "metadata": {},
   "outputs": [],
   "source": [
    "k = 7\n",
    "kmeans = KMeans(n_clusters=k).fit(df_norm.values)\n",
    "\n",
    "print(set(kmeans.labels_))\n",
    "print(collections.Counter(kmeans.labels_))\n",
    "\n",
    "df_results = df.copy()\n",
    "df_norm['cluster'] = kmeans.labels_\n",
    "df_results['cluster'] = kmeans.labels_"
   ]
  },
  {
   "cell_type": "code",
   "execution_count": null,
   "metadata": {},
   "outputs": [],
   "source": [
    "# Analyze the results\n",
    "df_results = df_results.reset_index()\n",
    "for cluster in sorted(set(kmeans.labels_)):\n",
    "    print(collections.Counter(df_results[df_results['cluster']==cluster]['State']).most_common(5))\n",
    "\n",
    "n_clusters = len(set(kmeans.labels_))\n",
    "for col in X_columns:\n",
    "    print(col)\n",
    "    i = 1\n",
    "    plt.figure(figsize=(16,3))\n",
    "    for cluster in sorted(set(kmeans.labels_)):\n",
    "        plt.subplot(1, n_clusters, i)\n",
    "        plt.xlim([0,df_results[col].max()])\n",
    "        plt.hist(df_results[df_results['cluster']==cluster][col], label=str(cluster), alpha=0.3, bins=20)\n",
    "        i += 1\n",
    "    plt.show()"
   ]
  },
  {
   "cell_type": "code",
   "execution_count": null,
   "metadata": {},
   "outputs": [],
   "source": [
    "# Analyze the centroids\n",
    "df_results.groupby('cluster').mean().round(2).T"
   ]
  },
  {
   "cell_type": "code",
   "execution_count": null,
   "metadata": {},
   "outputs": [],
   "source": [
    "# Analyze the results\n",
    "for col in X_columns:\n",
    "    print(col)\n",
    "    for cluster in set(kmeans.labels_):\n",
    "        plt.hist(df_results[df_results['cluster']==cluster][col], label=str(cluster), alpha=0.3, bins=20)\n",
    "    plt.legend()\n",
    "    plt.show()"
   ]
  },
  {
   "cell_type": "markdown",
   "metadata": {},
   "source": [
    "# Model Evaluation"
   ]
  },
  {
   "cell_type": "code",
   "execution_count": null,
   "metadata": {},
   "outputs": [],
   "source": [
    "# Inter-Cluster\n",
    "centroids = []\n",
    "for cluster in sorted(set(kmeans.labels_)):\n",
    "    centroids.append(df_norm[df_norm['cluster']==cluster][X_columns].mean().values)\n",
    "distances = []\n",
    "for c1 in centroids:\n",
    "    for c2 in centroids:\n",
    "        distances.append(euclidean_distances(c1.reshape(-1, 1), c2.reshape(-1, 1))[0][0])\n",
    "print('Inter Cluster distance', np.mean(distances))\n",
    "\n",
    "# Intra-Cluster\n",
    "distances = []\n",
    "for cluster in sorted(set(kmeans.labels_)):\n",
    "    df_filter = df_norm[df_norm['cluster']==cluster]\n",
    "    centroid = df_filter[X_columns].mean().values\n",
    "    for k, v in df_filter[X_columns].iterrows():\n",
    "        distances.append(euclidean_distances(centroid.reshape(-1, 1), v.values.reshape(-1, 1))[0][0])\n",
    "print('Intra Cluster distance', np.mean(distances))\n",
    "\n",
    "# Inertia\n",
    "distances = []\n",
    "for cluster in sorted(set(kmeans.labels_)):\n",
    "    df_filter = df_norm[df_norm['cluster']==cluster]\n",
    "    centroid = df_filter[X_columns].mean().values\n",
    "    for k, v in df_filter[X_columns].iterrows():\n",
    "        distances.append(euclidean_distances(centroid.reshape(1, -1), v.values.reshape(1, -1), squared=True)[0][0])\n",
    "print('Inertia', np.sum(distances))"
   ]
  },
  {
   "cell_type": "code",
   "execution_count": null,
   "metadata": {},
   "outputs": [],
   "source": [
    "inertia = []\n",
    "number_k = []\n",
    "for k in range(2, 100, 10):\n",
    "    kmeans = KMeans(n_clusters=k).fit(df_norm.values)\n",
    "    inertia.append(kmeans.inertia_)\n",
    "    number_k.append(k)\n",
    "plt.plot(number_k, inertia)\n",
    "plt.show()"
   ]
  },
  {
   "cell_type": "code",
   "execution_count": null,
   "metadata": {},
   "outputs": [],
   "source": []
  }
 ],
 "metadata": {
  "anaconda-cloud": {},
  "kernelspec": {
   "display_name": "Python 3",
   "language": "python",
   "name": "python3"
  },
  "language_info": {
   "codemirror_mode": {
    "name": "ipython",
    "version": 3
   },
   "file_extension": ".py",
   "mimetype": "text/x-python",
   "name": "python",
   "nbconvert_exporter": "python",
   "pygments_lexer": "ipython3",
   "version": "3.7.1"
  }
 },
 "nbformat": 4,
 "nbformat_minor": 1
}
