{
 "cells": [
  {
   "cell_type": "code",
   "execution_count": null,
   "metadata": {},
   "outputs": [],
   "source": [
    "# import the library\n",
    "%matplotlib inline\n",
    "\n",
    "import pandas as pd\n",
    "import numpy as np\n",
    "import collections\n",
    "import matplotlib.pyplot as plt\n",
    "import seaborn as sns\n",
    "\n",
    "from pyproj import Proj, transform\n",
    "\n",
    "from sklearn.metrics.pairwise import euclidean_distances\n",
    "from sklearn.cluster import DBSCAN\n",
    "\n",
    "import bokeh\n",
    "import bokeh.plotting as plotting\n",
    "from bokeh.plotting import figure, show, ColumnDataSource\n",
    "from bokeh.tile_providers import CARTODBPOSITRON\n",
    "plotting.output_notebook()\n",
    "\n",
    "sns.set_style('whitegrid')"
   ]
  },
  {
   "cell_type": "markdown",
   "metadata": {},
   "source": [
    "# Problem definition"
   ]
  },
  {
   "cell_type": "markdown",
   "metadata": {},
   "source": [
    "Cluster regions based on crime data\n",
    "\n",
    "http://donnees.ville.montreal.qc.ca/dataset/actes-criminels"
   ]
  },
  {
   "cell_type": "markdown",
   "metadata": {},
   "source": [
    "# Load the data"
   ]
  },
  {
   "cell_type": "code",
   "execution_count": null,
   "metadata": {},
   "outputs": [],
   "source": [
    "#input\n",
    "df = pd.read_csv('data/interventionscitoyendo.csv', encoding='latin_1')\n",
    "df['DATE'] = pd.to_datetime(df['DATE'])\n",
    "print(df.columns)\n",
    "print(df['CATEGORIE'].value_counts())\n",
    "df.head()"
   ]
  },
  {
   "cell_type": "markdown",
   "metadata": {},
   "source": [
    "# Feature Engineering "
   ]
  },
  {
   "cell_type": "code",
   "execution_count": null,
   "metadata": {},
   "outputs": [],
   "source": [
    "# feature engineering\n",
    "\n",
    "# select a period\n",
    "df = df[df['DATE']>='2018-01-01']\n",
    "\n",
    "# select the categories\n",
    "df = df[df['CATEGORIE']==u'Vols qualifiés']\n",
    "\n",
    "# remove lines with no location\n",
    "df = df[(df['X']>0)&(df['Y']>0)]\n",
    "\n",
    "# adapt X and Y to the visualization\n",
    "df['X'] = df.apply(lambda x: transform(Proj(init='epsg:4326'), Proj(init='epsg:3857'), x['LONG'], x['LAT'])[1], axis=1)\n",
    "df['Y'] = df.apply(lambda x: transform(Proj(init='epsg:4326'), Proj(init='epsg:3857'), x['LONG'], x['LAT'])[0], axis=1)\n",
    "\n",
    "X_columns = ['X', 'Y']\n",
    "df = df[X_columns]"
   ]
  },
  {
   "cell_type": "markdown",
   "metadata": {},
   "source": [
    "# Model Training"
   ]
  },
  {
   "cell_type": "code",
   "execution_count": null,
   "metadata": {},
   "outputs": [],
   "source": [
    "model = DBSCAN(eps=1.0, min_samples=100)\n",
    "model.fit(df[['X', 'Y']])\n",
    "\n",
    "cluster_labels = model.labels_\n",
    "n_clusters = len(set(cluster_labels))\n",
    "print(collections.Counter(cluster_labels))\n",
    "\n",
    "df['cluster'] = cluster_labels"
   ]
  },
  {
   "cell_type": "code",
   "execution_count": null,
   "metadata": {},
   "outputs": [],
   "source": [
    "p = figure(y_range=(5641788.0, 5751788.0), x_range=(-8152883, -8252883))\n",
    "p.add_tile(CARTODBPOSITRON)\n",
    "\n",
    "latitude  = list(df[df['cluster']>-1]['X'].values)\n",
    "longitude = list(df[df['cluster']>-1]['Y'].values)\n",
    "\n",
    "colormap = list(bokeh.palettes.viridis(n_clusters))\n",
    "colors = [colormap[x] for x in df[df['cluster']>-1]['cluster']]\n",
    "source = ColumnDataSource(data=dict(longitude=longitude, latitude=latitude))\n",
    "p.circle(x=longitude, y=latitude, color=colors, fill_alpha=0.2, size=5)\n",
    "show(p)"
   ]
  },
  {
   "cell_type": "markdown",
   "metadata": {},
   "source": [
    "# Model Evaluation"
   ]
  },
  {
   "cell_type": "code",
   "execution_count": null,
   "metadata": {},
   "outputs": [],
   "source": [
    "# Inter-Cluster\n",
    "centroids = []\n",
    "for cluster in sorted(set(model.labels_)):\n",
    "    centroids.append(df[df['cluster']==cluster][X_columns].mean().values)\n",
    "distances = []\n",
    "for c1 in centroids:\n",
    "    for c2 in centroids:\n",
    "        distances.append(euclidean_distances(c1.reshape(-1, 1), c2.reshape(-1, 1))[0][0])\n",
    "print('Inter Cluster distance', np.mean(distances))\n",
    "\n",
    "# Intra-Cluster\n",
    "distances = []\n",
    "for cluster in sorted(set(model.labels_)):\n",
    "    df_filter = df[df['cluster']==cluster]\n",
    "    centroid = df_filter[X_columns].mean().values\n",
    "    for k, v in df_filter[X_columns].iterrows():\n",
    "        distances.append(euclidean_distances(centroid.reshape(-1, 1), v.values.reshape(-1, 1))[0][0])\n",
    "print('Intra Cluster distance', np.mean(distances))\n",
    "\n",
    "# Inertia\n",
    "distances = []\n",
    "for cluster in sorted(set(model.labels_)):\n",
    "    df_filter = df[df['cluster']==cluster]\n",
    "    centroid = df_filter[X_columns].mean().values\n",
    "    for k, v in df_filter[X_columns].iterrows():\n",
    "        distances.append(euclidean_distances(centroid.reshape(1, -1), v.values.reshape(1, -1), squared=True)[0][0])\n",
    "print('Inertia', np.sum(distances))"
   ]
  },
  {
   "cell_type": "code",
   "execution_count": null,
   "metadata": {},
   "outputs": [],
   "source": []
  },
  {
   "cell_type": "code",
   "execution_count": null,
   "metadata": {},
   "outputs": [],
   "source": []
  },
  {
   "cell_type": "code",
   "execution_count": null,
   "metadata": {},
   "outputs": [],
   "source": []
  }
 ],
 "metadata": {
  "anaconda-cloud": {},
  "kernelspec": {
   "display_name": "Python 3",
   "language": "python",
   "name": "python3"
  },
  "language_info": {
   "codemirror_mode": {
    "name": "ipython",
    "version": 3
   },
   "file_extension": ".py",
   "mimetype": "text/x-python",
   "name": "python",
   "nbconvert_exporter": "python",
   "pygments_lexer": "ipython3",
   "version": "3.7.1"
  }
 },
 "nbformat": 4,
 "nbformat_minor": 1
}
