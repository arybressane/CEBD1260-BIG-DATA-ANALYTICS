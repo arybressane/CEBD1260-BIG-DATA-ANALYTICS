{
 "cells": [
  {
   "cell_type": "code",
   "execution_count": null,
   "metadata": {},
   "outputs": [],
   "source": [
    "# import the library\n",
    "%matplotlib inline\n",
    "\n",
    "import pandas as pd\n",
    "import numpy as np\n",
    "import matplotlib.pyplot as plt\n",
    "import seaborn as sns\n",
    "\n",
    "# sklearn :: utils\n",
    "from sklearn.model_selection import train_test_split\n",
    "\n",
    "# sklearn :: models\n",
    "from sklearn.linear_model import LinearRegression\n",
    "\n",
    "# sklearn :: evaluation metrics\n",
    "from sklearn.metrics import mean_absolute_error\n",
    "\n",
    "sns.set_style('whitegrid')"
   ]
  },
  {
   "cell_type": "markdown",
   "metadata": {},
   "source": [
    "# Problem definition"
   ]
  },
  {
   "cell_type": "markdown",
   "metadata": {},
   "source": [
    "Apply regression models to predict the house pricing"
   ]
  },
  {
   "cell_type": "markdown",
   "metadata": {},
   "source": [
    "# Load the data"
   ]
  },
  {
   "cell_type": "code",
   "execution_count": null,
   "metadata": {},
   "outputs": [],
   "source": [
    "#input\n",
    "df_pricing = pd.read_csv('data/house_pricing.csv')\n",
    "print(df_pricing.columns)\n",
    "df_pricing.head()"
   ]
  },
  {
   "cell_type": "markdown",
   "metadata": {},
   "source": [
    "# Feature Engineering "
   ]
  },
  {
   "cell_type": "code",
   "execution_count": null,
   "metadata": {},
   "outputs": [],
   "source": [
    "# zipcode to numerical columns\n",
    "df_zipcode = pd.get_dummies(df_pricing['zipcode'])\n",
    "df = pd.concat([df_pricing, df_zipcode], axis=1).fillna(0.0)\n",
    "print(list(df.columns))\n",
    "df.head()"
   ]
  },
  {
   "cell_type": "code",
   "execution_count": null,
   "metadata": {},
   "outputs": [],
   "source": [
    "# select the columns\n",
    "X_columns = ['bedrooms', 'bathrooms', 'grade', 'condition', 'waterfront', 'sqft_living15', 'sqft_lot15'] + list(df_zipcode.columns)\n",
    "y_column = ['price']"
   ]
  },
  {
   "cell_type": "markdown",
   "metadata": {},
   "source": [
    "# Model Training"
   ]
  },
  {
   "cell_type": "code",
   "execution_count": null,
   "metadata": {},
   "outputs": [],
   "source": [
    "# split the data\n",
    "\n",
    "df = df.sample(frac=1).reset_index(drop=True)\n",
    "\n",
    "threshold = 0.8\n",
    "absolute_threshold = int(len(df)*threshold)\n",
    "\n",
    "X_train = df.iloc[:absolute_threshold][X_columns]\n",
    "y_train = df.iloc[:absolute_threshold][y_column]\n",
    "\n",
    "X_test = df.iloc[absolute_threshold:][X_columns]\n",
    "y_test = df.iloc[absolute_threshold:][y_column]\n",
    "\n",
    "print('X_train', X_train.shape)\n",
    "print('y_train', y_train.shape)\n",
    "print('X_test', X_test.shape)\n",
    "print('y_test', y_test.shape)"
   ]
  },
  {
   "cell_type": "code",
   "execution_count": null,
   "metadata": {},
   "outputs": [],
   "source": [
    "# split the data using sklearn\n",
    "\n",
    "threshold = 0.8\n",
    "X = df[X_columns]\n",
    "y = df[y_column]\n",
    "X_train, X_test, y_train, y_test = train_test_split(X, y, test_size=1.0-threshold, shuffle=True)\n",
    "\n",
    "print('X_train', X_train.shape)\n",
    "print('y_train', y_train.shape)\n",
    "print('X_test', X_test.shape)\n",
    "print('y_test', y_test.shape)"
   ]
  },
  {
   "cell_type": "code",
   "execution_count": null,
   "metadata": {},
   "outputs": [],
   "source": [
    "# train a linear regression\n",
    "model = LinearRegression()\n",
    "model.fit(X_train, y_train)\n",
    "y_pred = model.predict(X_test)"
   ]
  },
  {
   "cell_type": "markdown",
   "metadata": {},
   "source": [
    "# Model Evaluation"
   ]
  },
  {
   "cell_type": "code",
   "execution_count": null,
   "metadata": {},
   "outputs": [],
   "source": [
    "mae = mean_absolute_error(y_test, y_pred)\n",
    "print('MAE', round(mae, 2))\n",
    "plt.scatter(y_test, y_pred, alpha=0.3)\n",
    "plt.plot(range(0,5000000, 100), range(0,5000000, 100), '--r', alpha=0.3, label='Line1')\n",
    "plt.title('Linear Regression')\n",
    "plt.xlabel('True Value')\n",
    "plt.ylabel('Predict Value')\n",
    "plt.xlim([0, 5000000])\n",
    "plt.ylim([0, 5000000])\n",
    "plt.show()"
   ]
  },
  {
   "cell_type": "code",
   "execution_count": null,
   "metadata": {},
   "outputs": [],
   "source": []
  },
  {
   "cell_type": "code",
   "execution_count": null,
   "metadata": {},
   "outputs": [],
   "source": []
  },
  {
   "cell_type": "code",
   "execution_count": null,
   "metadata": {},
   "outputs": [],
   "source": []
  },
  {
   "cell_type": "code",
   "execution_count": null,
   "metadata": {},
   "outputs": [],
   "source": []
  },
  {
   "cell_type": "code",
   "execution_count": null,
   "metadata": {},
   "outputs": [],
   "source": []
  },
  {
   "cell_type": "code",
   "execution_count": null,
   "metadata": {},
   "outputs": [],
   "source": []
  },
  {
   "cell_type": "code",
   "execution_count": null,
   "metadata": {},
   "outputs": [],
   "source": []
  },
  {
   "cell_type": "code",
   "execution_count": null,
   "metadata": {},
   "outputs": [],
   "source": []
  },
  {
   "cell_type": "code",
   "execution_count": null,
   "metadata": {},
   "outputs": [],
   "source": []
  },
  {
   "cell_type": "code",
   "execution_count": null,
   "metadata": {},
   "outputs": [],
   "source": []
  },
  {
   "cell_type": "code",
   "execution_count": null,
   "metadata": {},
   "outputs": [],
   "source": []
  },
  {
   "cell_type": "code",
   "execution_count": null,
   "metadata": {},
   "outputs": [],
   "source": []
  },
  {
   "cell_type": "markdown",
   "metadata": {},
   "source": [
    "# Cross Validation"
   ]
  },
  {
   "cell_type": "code",
   "execution_count": null,
   "metadata": {},
   "outputs": [],
   "source": [
    "# models = [\n",
    "#     ('LinearRegression', LinearRegression()),\n",
    "#     ('RandomForestRegressor10', RandomForestRegressor(n_estimators=10)),\n",
    "#     ('RandomForestRegressor100', RandomForestRegressor(n_estimators=100, n_jobs=4)),\n",
    "#     ('KNeighborsRegressor', KNeighborsRegressor()),\n",
    "#     ('DecisionTreeRegressor', DecisionTreeRegressor())\n",
    "# ]\n",
    "\n",
    "# k = 10\n",
    "# results = {}\n",
    "# for m in models:\n",
    "#     print('MODEL', m[0])\n",
    "#     results[m[0]] = {'mae':[], 'rmse':[]}\n",
    "#     kf = KFold(n_splits=k)\n",
    "#     for train_index, test_index in kf.split(X):\n",
    "#         X_train, X_test = X.values[train_index], X.values[test_index]\n",
    "#         y_train, y_test = y.values[train_index], y.values[test_index]\n",
    "#         model = m[1]\n",
    "#         model.fit(X_train, y_train.ravel())\n",
    "#         y_pred = model.predict(X_test)\n",
    "#         mae = mean_absolute_error(y_test, y_pred)\n",
    "#         rmse = np.sqrt(mean_squared_error(y_test, y_pred))\n",
    "#         results[m[0]]['mae'].append(mae)\n",
    "#         results[m[0]]['rmse'].append(rmse)"
   ]
  },
  {
   "cell_type": "code",
   "execution_count": null,
   "metadata": {},
   "outputs": [],
   "source": [
    "# for metric in ['mae', 'rmse']:\n",
    "#     values = []\n",
    "#     labels = []\n",
    "#     for model, result_values in results.items():\n",
    "#         for m, v in result_values.items():\n",
    "#             if m == metric:\n",
    "#                 labels.append(model)\n",
    "#                 values.append(v)\n",
    "#     plt.figure(figsize=(12,6))\n",
    "#     plt.title(metric)\n",
    "#     plt.boxplot(values)\n",
    "#     plt.xticks(range(1, len(labels)+1), labels, rotation='horizontal')\n",
    "#     plt.show()"
   ]
  },
  {
   "cell_type": "code",
   "execution_count": null,
   "metadata": {},
   "outputs": [],
   "source": []
  },
  {
   "cell_type": "code",
   "execution_count": null,
   "metadata": {},
   "outputs": [],
   "source": []
  },
  {
   "cell_type": "code",
   "execution_count": null,
   "metadata": {},
   "outputs": [],
   "source": []
  }
 ],
 "metadata": {
  "anaconda-cloud": {},
  "kernelspec": {
   "display_name": "Python 3",
   "language": "python",
   "name": "python3"
  },
  "language_info": {
   "codemirror_mode": {
    "name": "ipython",
    "version": 3
   },
   "file_extension": ".py",
   "mimetype": "text/x-python",
   "name": "python",
   "nbconvert_exporter": "python",
   "pygments_lexer": "ipython3",
   "version": "3.7.1"
  }
 },
 "nbformat": 4,
 "nbformat_minor": 1
}
