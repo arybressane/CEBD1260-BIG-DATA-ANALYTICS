{
 "cells": [
  {
   "cell_type": "code",
   "execution_count": null,
   "metadata": {},
   "outputs": [],
   "source": [
    "%matplotlib inline\n",
    "\n",
    "import pandas as pd\n",
    "import numpy as np\n",
    "import matplotlib.pyplot as plt\n",
    "import seaborn as sns\n",
    "import os\n",
    "\n",
    "from surprise import SVD, KNNBasic, KNNBaseline\n",
    "from surprise import Dataset\n",
    "from surprise import Reader\n",
    "from surprise import accuracy\n",
    "from surprise.model_selection import train_test_split\n",
    "from surprise.model_selection import KFold\n",
    "\n",
    "sns.set_style('whitegrid')"
   ]
  },
  {
   "cell_type": "markdown",
   "metadata": {},
   "source": [
    "# Load the files"
   ]
  },
  {
   "cell_type": "code",
   "execution_count": null,
   "metadata": {},
   "outputs": [],
   "source": [
    "# load the movies file\n",
    "df_movies = pd.read_csv('data/movielens100k/u.item', sep='|', header=None)\n",
    "df_movies = df_movies[[0,1]]\n",
    "df_movies.columns = ['item_id', 'movie']\n",
    "df_movies.head()"
   ]
  },
  {
   "cell_type": "code",
   "execution_count": null,
   "metadata": {},
   "outputs": [],
   "source": [
    "# load the ratings file\n",
    "df_ratings = pd.read_csv('data/movielens100k/u.data', sep='\\t', header=None)\n",
    "df_ratings.columns = ['user_id', 'item_id', 'rating', 'timestamp']\n",
    "df_ratings.head()"
   ]
  },
  {
   "cell_type": "code",
   "execution_count": null,
   "metadata": {},
   "outputs": [],
   "source": [
    "# load the ratings file as a dataset\n",
    "\n",
    "file_path = os.path.expanduser('data/movielens100k/u.data')\n",
    "reader = Reader(line_format='user item rating timestamp', sep='\\t')\n",
    "# file_path = os.path.expanduser('data/movielens1M/ratings.dat')\n",
    "# reader = Reader(line_format='user item rating timestamp', sep='::')\n",
    "\n",
    "data = Dataset.load_from_file(file_path, reader=reader)"
   ]
  },
  {
   "cell_type": "markdown",
   "metadata": {},
   "source": [
    "# Model Training and Evaluation"
   ]
  },
  {
   "cell_type": "code",
   "execution_count": null,
   "metadata": {},
   "outputs": [],
   "source": [
    "# Split train and test\n",
    "trainset, testset = train_test_split(data, test_size=0.1, shuffle=True)\n",
    "# Instantiate a model and train\n",
    "model = KNNBasic()\n",
    "model.fit(trainset)\n",
    "# Predict the test set\n",
    "pred = model.test(testset)\n",
    "# Evaluate the results\n",
    "accuracy.rmse(pred)\n",
    "accuracy.mae(pred)\n",
    "pred"
   ]
  },
  {
   "cell_type": "code",
   "execution_count": null,
   "metadata": {},
   "outputs": [],
   "source": [
    "# define a cross-validation iterator\n",
    "kf = KFold(n_splits=10, shuffle=True)\n",
    "model = KNNBasic()\n",
    "for trainset, testset in kf.split(data):\n",
    "    # train and test algorithm.\n",
    "    model.fit(trainset)\n",
    "    predictions = model.test(testset)\n",
    "    # evaluate the model\n",
    "    accuracy.rmse(predictions, verbose=True)\n",
    "    accuracy.mae(predictions, verbose=True)"
   ]
  },
  {
   "cell_type": "markdown",
   "metadata": {},
   "source": [
    "# Generate recommendations"
   ]
  },
  {
   "cell_type": "code",
   "execution_count": null,
   "metadata": {},
   "outputs": [],
   "source": [
    "#model = KNNBasic()\n",
    "#model = KNNBaseline()\n",
    "#model = SVD()\n",
    "trainset = data.build_full_trainset()\n",
    "model.fit(trainset)"
   ]
  },
  {
   "cell_type": "code",
   "execution_count": null,
   "metadata": {},
   "outputs": [],
   "source": [
    "# select a random user\n",
    "user_id = df_ratings.sample(1)['user_id'].values[0]\n",
    "print('selected user', user_id)\n",
    "\n",
    "# select the past votes for the random user\n",
    "df_user = df_ratings.copy()[df_ratings['user_id']==user_id]\n",
    "print(df_user.merge(df_movies, how='left', on='item_id')[['item_id','rating','movie']].sort_values(by='rating', ascending=False))\n",
    "\n",
    "# select the potential recommendations\n",
    "not_voted = set(df_movies['item_id'].values)-set(df_user['item_id'].values)\n",
    "print('number of potential recommendations', len(not_voted))\n",
    "\n",
    "# calculate the prediction\n",
    "pred = []\n",
    "for i in list(not_voted):\n",
    "    pred.append((user_id, i, model.predict(str(user_id), str(i))))\n",
    "    \n",
    "# show the list of recommendations\n",
    "recommendations = []\n",
    "for uid, iid, est in pred:\n",
    "    recommendations.append([uid, iid, est[3]])\n",
    "df_recommendations = pd.DataFrame(recommendations)\n",
    "df_recommendations.columns = ['user_id', 'item_id', 'prediction']\n",
    "df_recommendations['item_id'] = df_recommendations['item_id'].astype(float)\n",
    "df_recommendations = df_recommendations.sort_values('prediction', ascending=False)\n",
    "df_recommendations.merge(df_movies, how='left', on='item_id')"
   ]
  },
  {
   "cell_type": "code",
   "execution_count": null,
   "metadata": {},
   "outputs": [],
   "source": []
  },
  {
   "cell_type": "code",
   "execution_count": null,
   "metadata": {},
   "outputs": [],
   "source": []
  },
  {
   "cell_type": "code",
   "execution_count": null,
   "metadata": {},
   "outputs": [],
   "source": []
  }
 ],
 "metadata": {
  "anaconda-cloud": {},
  "kernelspec": {
   "display_name": "Python 3",
   "language": "python",
   "name": "python3"
  },
  "language_info": {
   "codemirror_mode": {
    "name": "ipython",
    "version": 3
   },
   "file_extension": ".py",
   "mimetype": "text/x-python",
   "name": "python",
   "nbconvert_exporter": "python",
   "pygments_lexer": "ipython3",
   "version": "3.7.1"
  }
 },
 "nbformat": 4,
 "nbformat_minor": 1
}
