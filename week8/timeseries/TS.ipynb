{
 "cells": [
  {
   "cell_type": "code",
   "execution_count": null,
   "metadata": {},
   "outputs": [],
   "source": [
    "# import the library\n",
    "%matplotlib inline\n",
    "\n",
    "import pandas as pd\n",
    "import numpy as np\n",
    "import scipy\n",
    "import matplotlib.pyplot as plt\n",
    "\n",
    "# the more advanced python visualization library\n",
    "import seaborn as sns\n",
    "\n",
    "# apply style to all the charts\n",
    "sns.set_style('whitegrid')\n",
    "\n",
    "from statsmodels.graphics.tsaplots import plot_acf\n",
    "from statsmodels.graphics.tsaplots import plot_pacf\n",
    "\n",
    "# convert scientific notation to decimals\n",
    "pd.set_option('display.float_format', lambda x: '%.2f' % x)"
   ]
  },
  {
   "cell_type": "code",
   "execution_count": null,
   "metadata": {},
   "outputs": [],
   "source": [
    "# https://www.capitalbikeshare.com/system-data\n",
    "df = pd.read_csv('data/2011-capitalbikeshare-tripdata.csv')\n",
    "df.head(10)"
   ]
  },
  {
   "cell_type": "code",
   "execution_count": null,
   "metadata": {},
   "outputs": [],
   "source": [
    "# set the datetime column as the index\n",
    "df['Start date'] = pd.to_datetime(df['Start date'])\n",
    "df.set_index('Start date', inplace=True)\n",
    "df.head(10)"
   ]
  },
  {
   "cell_type": "markdown",
   "metadata": {},
   "source": [
    "# Resampling"
   ]
  },
  {
   "cell_type": "code",
   "execution_count": null,
   "metadata": {},
   "outputs": [],
   "source": [
    "# Resampling daily\n",
    "df_daily = df.resample('D').count()\n",
    "df_daily.columns = ['trips']\n",
    "# TODO: Resampling weekly\n",
    "\n",
    "# TODO: Resampling monthly\n"
   ]
  },
  {
   "cell_type": "code",
   "execution_count": null,
   "metadata": {},
   "outputs": [],
   "source": [
    "# plot daily chart\n",
    "plt.plot(df_daily)\n",
    "plt.title('Daily')\n",
    "plt.show()"
   ]
  },
  {
   "cell_type": "code",
   "execution_count": null,
   "metadata": {},
   "outputs": [],
   "source": [
    "# TODO: plot weekly chart\n"
   ]
  },
  {
   "cell_type": "code",
   "execution_count": null,
   "metadata": {},
   "outputs": [],
   "source": [
    "# TODO: plot monthly chart\n"
   ]
  },
  {
   "cell_type": "markdown",
   "metadata": {},
   "source": [
    "# Autocorrelation and Partial Autocorrelation"
   ]
  },
  {
   "cell_type": "code",
   "execution_count": null,
   "metadata": {},
   "outputs": [],
   "source": [
    "# Daily\n",
    "lags = 52\n",
    "# acf\n",
    "plot_acf(df_daily, lags=lags)\n",
    "plt.show()\n",
    "# pacf\n",
    "plot_pacf(df_daily, lags=lags)\n",
    "plt.show()"
   ]
  },
  {
   "cell_type": "code",
   "execution_count": null,
   "metadata": {},
   "outputs": [],
   "source": [
    "# Weekly\n",
    "lags = 52\n",
    "# acf\n",
    "plot_acf(df_weekly, lags=lags)\n",
    "plt.show()\n",
    "# pacf\n",
    "plot_pacf(df_weekly, lags=lags)\n",
    "plt.show()"
   ]
  },
  {
   "cell_type": "markdown",
   "metadata": {},
   "source": [
    "# Differencing 1st order"
   ]
  },
  {
   "cell_type": "code",
   "execution_count": null,
   "metadata": {},
   "outputs": [],
   "source": [
    "df_daily.diff()"
   ]
  },
  {
   "cell_type": "code",
   "execution_count": null,
   "metadata": {},
   "outputs": [],
   "source": [
    "# plot the daily diff\n",
    "plt.plot(df_daily.diff())\n",
    "plt.title('Daily Diff')\n",
    "plt.show()"
   ]
  },
  {
   "cell_type": "code",
   "execution_count": null,
   "metadata": {},
   "outputs": [],
   "source": [
    "# TODO: What is the day with the highest absolute difference?"
   ]
  },
  {
   "cell_type": "code",
   "execution_count": null,
   "metadata": {},
   "outputs": [],
   "source": [
    "# plot the weekly diff\n",
    "plt.plot(df_weekly.diff())\n",
    "plt.title('Weekly Diff')\n",
    "plt.show()"
   ]
  },
  {
   "cell_type": "markdown",
   "metadata": {},
   "source": [
    "# Time Series Decomposition"
   ]
  },
  {
   "cell_type": "code",
   "execution_count": null,
   "metadata": {},
   "outputs": [],
   "source": [
    "from statsmodels.tsa.seasonal import seasonal_decompose\n",
    "from pylab import rcParams\n",
    "print(rcParams['figure.figsize'])\n",
    "rcParams['figure.figsize'] = 16, 10\n",
    "series = df_daily['trips'].dropna().values\n",
    "result = seasonal_decompose(series, model='additive', freq=7)\n",
    "result.plot()\n",
    "plt.show()\n",
    "rcParams['figure.figsize'] = 6, 4"
   ]
  },
  {
   "cell_type": "code",
   "execution_count": null,
   "metadata": {},
   "outputs": [],
   "source": [
    "df_daily['dow'] = df_daily.index.dayofweek\n",
    "df_daily['trend'] = result.trend\n",
    "df_daily['seasonal'] = result.seasonal\n",
    "df_daily['resid'] = result.resid\n",
    "df_daily"
   ]
  },
  {
   "cell_type": "markdown",
   "metadata": {},
   "source": [
    "# Smoothing"
   ]
  },
  {
   "cell_type": "code",
   "execution_count": null,
   "metadata": {},
   "outputs": [],
   "source": [
    "# rolling - moving average\n",
    "plt.figure(figsize=(10,6))\n",
    "plt.title('Smoothing Moving Average')\n",
    "plt.plot(df_daily['trips'], alpha=0.3)\n",
    "plt.plot(df_daily['trips'].rolling(window=7).mean())\n",
    "plt.show()"
   ]
  },
  {
   "cell_type": "code",
   "execution_count": null,
   "metadata": {},
   "outputs": [],
   "source": [
    "# exponential weighted functions\n",
    "plt.figure(figsize=(10,6))\n",
    "plt.title('Smoothing Exponential Weighted Function')\n",
    "plt.plot(df_daily['trips'], alpha=0.3)\n",
    "plt.plot(df_daily['trips'].ewm(alpha=0.3).mean())\n",
    "plt.show()"
   ]
  },
  {
   "cell_type": "markdown",
   "metadata": {},
   "source": [
    "# Simple anomaly detection"
   ]
  },
  {
   "cell_type": "code",
   "execution_count": null,
   "metadata": {},
   "outputs": [],
   "source": [
    "resid_mean = df_daily['resid'].dropna().mean()\n",
    "resid_std = df_daily['resid'].dropna().std()\n",
    "print(resid_mean)\n",
    "print(resid_std)\n",
    "\n",
    "n_std = 3\n",
    "df_anomaly = df_daily[(df_daily['resid'] < resid_mean - n_std * resid_std)|(df_daily['resid'] > resid_mean + n_std * resid_std)]\n",
    "\n",
    "plt.figure(figsize=(10,6))\n",
    "plt.plot(df_daily['trips'])\n",
    "for k, v in df_anomaly.iterrows():\n",
    "    plt.plot(k, v['trips'], 'or')\n",
    "plt.show()"
   ]
  },
  {
   "cell_type": "markdown",
   "metadata": {},
   "source": [
    "# Time series prediction"
   ]
  },
  {
   "cell_type": "markdown",
   "metadata": {},
   "source": [
    "## Stats approach"
   ]
  },
  {
   "cell_type": "code",
   "execution_count": null,
   "metadata": {},
   "outputs": [],
   "source": [
    "# Auto Regressive Model\n",
    "from statsmodels.tsa.ar_model import AR\n",
    "model = AR(df_daily['trips'])\n",
    "# fit model\n",
    "model_fit = model.fit()\n",
    "print(df_daily['trips'].tail(7))\n",
    "# calculate prediction\n",
    "yhat = model_fit.predict(len(df_daily['trips']), len(df_daily['trips'])+14)\n",
    "print(yhat)\n",
    "# plot results\n",
    "plt.figure(figsize=(10,6))\n",
    "plt.title('Auto Regressive Model')\n",
    "plt.plot(df_daily['trips'])\n",
    "plt.plot(yhat)\n",
    "plt.show()"
   ]
  },
  {
   "cell_type": "code",
   "execution_count": null,
   "metadata": {},
   "outputs": [],
   "source": [
    "# Moving Average\n",
    "from statsmodels.tsa.arima_model import ARMA\n",
    "# fit model\n",
    "model = ARMA(df_daily['trips'], order=(0, 1))\n",
    "model_fit = model.fit()\n",
    "# calculate prediction\n",
    "yhat = model_fit.predict(len(df_daily['trips']), len(df_daily['trips'])+14)\n",
    "print(yhat)\n",
    "# plot results\n",
    "plt.figure(figsize=(10,6))\n",
    "plt.title('Moving Average Model')\n",
    "plt.plot(df_daily['trips'])\n",
    "plt.plot(yhat)\n",
    "plt.show()"
   ]
  },
  {
   "cell_type": "code",
   "execution_count": null,
   "metadata": {},
   "outputs": [],
   "source": [
    "# Auto Regressive Moving Average\n",
    "from statsmodels.tsa.arima_model import ARMA\n",
    "# fit model\n",
    "model = ARMA(df_daily['trips'], order=(1, 1))\n",
    "model_fit = model.fit()\n",
    "# calculate prediction\n",
    "yhat = model_fit.predict(len(df_daily['trips']), len(df_daily['trips'])+14)\n",
    "print(yhat)\n",
    "# plot results\n",
    "plt.figure(figsize=(10,6))\n",
    "plt.title('Auto Regressive Moving Average Model')\n",
    "plt.plot(df_daily['trips'])\n",
    "plt.plot(yhat)\n",
    "plt.show()"
   ]
  },
  {
   "cell_type": "code",
   "execution_count": null,
   "metadata": {},
   "outputs": [],
   "source": [
    "# Holt Winters \n",
    "from statsmodels.tsa.holtwinters import ExponentialSmoothing\n",
    "# fit model\n",
    "model = ExponentialSmoothing(df_daily['trips'], trend='add', seasonal='add', seasonal_periods=7)\n",
    "model_fit = model.fit(smoothing_level=0.2, smoothing_slope=0.1, smoothing_seasonal=0.5)\n",
    "# calculate prediction\n",
    "yhat = model_fit.predict(len(df_daily['trips']), len(df_daily['trips'])+14)\n",
    "print(yhat)\n",
    "plt.figure(figsize=(10,6))\n",
    "plt.title('Holt Winters Model')\n",
    "plt.plot(df_daily['trips'])\n",
    "plt.plot(yhat)\n",
    "plt.show()"
   ]
  },
  {
   "cell_type": "markdown",
   "metadata": {},
   "source": [
    "## Machine Learning approach"
   ]
  },
  {
   "cell_type": "code",
   "execution_count": null,
   "metadata": {},
   "outputs": [],
   "source": [
    "# Problem definition\n",
    "# Load the data\n",
    "# Feature Engineering\n",
    "# Model Training\n",
    "# Model Evaluation"
   ]
  },
  {
   "cell_type": "markdown",
   "metadata": {},
   "source": [
    "## Problem definition\n",
    "Predict the system usage for tomorrow"
   ]
  },
  {
   "cell_type": "markdown",
   "metadata": {},
   "source": [
    "## Load the data"
   ]
  },
  {
   "cell_type": "code",
   "execution_count": null,
   "metadata": {},
   "outputs": [],
   "source": [
    "# https://archive.ics.uci.edu/ml/datasets/bike+sharing+dataset\n",
    "df_day = pd.read_csv('data/day.csv')\n",
    "df_day.head()"
   ]
  },
  {
   "cell_type": "code",
   "execution_count": null,
   "metadata": {},
   "outputs": [],
   "source": [
    "# Convert the date and set as the index\n",
    "df_day['dteday'] = pd.to_datetime(df_day['dteday'])\n",
    "df_day.set_index('dteday', inplace=True)\n",
    "df_day.head(10)"
   ]
  },
  {
   "cell_type": "markdown",
   "metadata": {},
   "source": [
    "## Feature Engineering"
   ]
  },
  {
   "cell_type": "code",
   "execution_count": null,
   "metadata": {},
   "outputs": [],
   "source": [
    "# Shift example\n",
    "df_cnt = df_day[['cnt']]\n",
    "df_cnt['shift_1'] = df_cnt['cnt'].shift(1)\n",
    "df_cnt.head(10)"
   ]
  },
  {
   "cell_type": "code",
   "execution_count": null,
   "metadata": {},
   "outputs": [],
   "source": [
    "# TODO: apply shift for X days\n",
    "df_cnt = df_day[['cnt']]\n"
   ]
  },
  {
   "cell_type": "code",
   "execution_count": null,
   "metadata": {},
   "outputs": [],
   "source": [
    "# Handle Missing Values\n"
   ]
  },
  {
   "cell_type": "code",
   "execution_count": null,
   "metadata": {},
   "outputs": [],
   "source": [
    "# feature engineering\n",
    "X_columns = [x for x in df_cnt.columns if x != 'cnt']\n",
    "y_column = ['cnt']"
   ]
  },
  {
   "cell_type": "markdown",
   "metadata": {},
   "source": [
    "## Model Training"
   ]
  },
  {
   "cell_type": "code",
   "execution_count": null,
   "metadata": {},
   "outputs": [],
   "source": [
    "# split the data\n",
    "\n",
    "# do NOT shuffle the data\n",
    "#df = df.sample(frac=1)\n",
    "\n",
    "threshold = 0.9\n",
    "absolute_threshold = int(len(df_cnt)*threshold)\n",
    "print(len(df_cnt), absolute_threshold)\n",
    "\n",
    "X_train = df_cnt.iloc[:absolute_threshold][X_columns]\n",
    "y_train = df_cnt.iloc[:absolute_threshold][y_column]\n",
    "\n",
    "X_test = df_cnt.iloc[absolute_threshold:][X_columns]\n",
    "y_test = df_cnt.iloc[absolute_threshold:][y_column]\n",
    "\n",
    "print('X_train', X_train.shape)\n",
    "print('y_train', y_train.shape)\n",
    "print('X_test', X_test.shape)\n",
    "print('y_test', y_test.shape)"
   ]
  },
  {
   "cell_type": "code",
   "execution_count": null,
   "metadata": {},
   "outputs": [],
   "source": [
    "# TODO: Train a linear regression or other model\n"
   ]
  },
  {
   "cell_type": "code",
   "execution_count": null,
   "metadata": {},
   "outputs": [],
   "source": [
    "# TODO: Calculate the MAE\n"
   ]
  },
  {
   "cell_type": "code",
   "execution_count": null,
   "metadata": {},
   "outputs": [],
   "source": [
    "# plot the results\n",
    "plt.scatter(y_test, y_pred, alpha=0.3)\n",
    "plt.show()\n",
    "plt.plot(y_test.index, y_test)\n",
    "plt.plot(y_test.index, y_pred)\n",
    "plt.show()"
   ]
  },
  {
   "cell_type": "code",
   "execution_count": null,
   "metadata": {},
   "outputs": [],
   "source": [
    "# TODO: add the 'atemp' and other features to the list. What is the impact on the MAE?"
   ]
  },
  {
   "cell_type": "code",
   "execution_count": null,
   "metadata": {},
   "outputs": [],
   "source": []
  }
 ],
 "metadata": {
  "kernelspec": {
   "display_name": "Python 3",
   "language": "python",
   "name": "python3"
  },
  "language_info": {
   "codemirror_mode": {
    "name": "ipython",
    "version": 3
   },
   "file_extension": ".py",
   "mimetype": "text/x-python",
   "name": "python",
   "nbconvert_exporter": "python",
   "pygments_lexer": "ipython3",
   "version": "3.7.1"
  }
 },
 "nbformat": 4,
 "nbformat_minor": 2
}
