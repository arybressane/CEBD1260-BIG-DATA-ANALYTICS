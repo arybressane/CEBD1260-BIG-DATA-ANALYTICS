{
  "nbformat": 4,
  "nbformat_minor": 0,
  "metadata": {
    "colab": {
      "name": "Spark Classification",
      "version": "0.3.2",
      "provenance": [],
      "collapsed_sections": [],
      "include_colab_link": true
    },
    "kernelspec": {
      "name": "python3",
      "display_name": "Python 3"
    }
  },
  "cells": [
    {
      "cell_type": "markdown",
      "metadata": {
        "id": "view-in-github",
        "colab_type": "text"
      },
      "source": [
        "<a href=\"https://colab.research.google.com/github/arybressane/CEBD1260-BIG-DATA-ANALYTICS/blob/master/week6/Spark_Classification.ipynb\" target=\"_parent\"><img src=\"https://colab.research.google.com/assets/colab-badge.svg\" alt=\"Open In Colab\"/></a>"
      ]
    },
    {
      "cell_type": "markdown",
      "metadata": {
        "id": "u9zuQvn1u_6I",
        "colab_type": "text"
      },
      "source": [
        "## Install all the requirements to run Spark"
      ]
    },
    {
      "cell_type": "code",
      "metadata": {
        "id": "A2-iFjHqgPfX",
        "colab_type": "code",
        "colab": {}
      },
      "source": [
        "!apt-get install openjdk-8-jdk-headless -qq > /dev/null\n",
        "!wget http://apache.forsale.plus/spark/spark-2.4.3/spark-2.4.3-bin-hadoop2.7.tgz\n",
        "!tar xvf spark-2.4.3-bin-hadoop2.7.tgz\n",
        "!pip install -q findspark"
      ],
      "execution_count": 0,
      "outputs": []
    },
    {
      "cell_type": "code",
      "metadata": {
        "id": "oe3bAmEonnbR",
        "colab_type": "code",
        "colab": {}
      },
      "source": [
        "# create the environment variables\n",
        "import os\n",
        "os.environ[\"JAVA_HOME\"] = \"/usr/lib/jvm/java-8-openjdk-amd64\"\n",
        "os.environ[\"SPARK_HOME\"] = \"/content/spark-2.4.3-bin-hadoop2.7\""
      ],
      "execution_count": 0,
      "outputs": []
    },
    {
      "cell_type": "code",
      "metadata": {
        "id": "p2Gv8kagnnrR",
        "colab_type": "code",
        "colab": {}
      },
      "source": [
        "# start spark\n",
        "import findspark\n",
        "findspark.init()\n",
        "from pyspark.sql import SparkSession\n",
        "spark = SparkSession.builder.master(\"local[*]\").getOrCreate()"
      ],
      "execution_count": 0,
      "outputs": []
    },
    {
      "cell_type": "code",
      "metadata": {
        "id": "DY29kuq9nn0Z",
        "colab_type": "code",
        "colab": {}
      },
      "source": [
        "# import the library\n",
        "%matplotlib inline\n",
        "\n",
        "import pandas as pd\n",
        "import numpy as np\n",
        "import matplotlib.pyplot as plt\n",
        "import seaborn as sns\n",
        "\n",
        "sns.set_style('whitegrid')"
      ],
      "execution_count": 0,
      "outputs": []
    },
    {
      "cell_type": "code",
      "metadata": {
        "id": "ZjfsqIGgqIav",
        "colab_type": "code",
        "colab": {}
      },
      "source": [
        "# import spark libraries\n",
        "from pyspark.ml import Pipeline\n",
        "from pyspark.ml.feature import VectorAssembler\n",
        "from pyspark.ml.classification import RandomForestClassifier\n",
        "from pyspark.ml.feature import VectorIndexer\n",
        "from pyspark.ml.evaluation import MulticlassClassificationEvaluator"
      ],
      "execution_count": 0,
      "outputs": []
    },
    {
      "cell_type": "markdown",
      "metadata": {
        "id": "Z5ogx4ajvfNo",
        "colab_type": "text"
      },
      "source": [
        "## Problem Definition\n",
        "Apply regression models to predict the house pricing\n",
        "\n"
      ]
    },
    {
      "cell_type": "markdown",
      "metadata": {
        "id": "hATgXWNovqvD",
        "colab_type": "text"
      },
      "source": [
        "## Load Data"
      ]
    },
    {
      "cell_type": "code",
      "metadata": {
        "id": "ey6gJnJpnnwY",
        "colab_type": "code",
        "colab": {}
      },
      "source": [
        "# upload a file in colab\n",
        "from google.colab import files\n",
        "files.upload()"
      ],
      "execution_count": 0,
      "outputs": []
    },
    {
      "cell_type": "code",
      "metadata": {
        "id": "u_4ib9icqIeI",
        "colab_type": "code",
        "outputId": "1ace5f8a-d3f5-4a82-a083-6ae4e5beb4e6",
        "colab": {
          "base_uri": "https://localhost:8080/",
          "height": 54
        }
      },
      "source": [
        "# Load and parse the data file, converting it to a DataFrame.\n",
        "data = spark.read.csv('default of credit card clients.csv', header = True, inferSchema = True)\n",
        "data.show"
      ],
      "execution_count": 7,
      "outputs": [
        {
          "output_type": "execute_result",
          "data": {
            "text/plain": [
              "<bound method DataFrame.show of DataFrame[ID: int, LIMIT_BAL: int, SEX: int, EDUCATION: int, MARRIAGE: int, AGE: int, PAY_1: int, PAY_2: int, PAY_3: int, PAY_4: int, PAY_5: int, PAY_6: int, BILL_AMT1: int, BILL_AMT2: int, BILL_AMT3: int, BILL_AMT4: int, BILL_AMT5: int, BILL_AMT6: int, PAY_AMT1: int, PAY_AMT2: int, PAY_AMT3: int, PAY_AMT4: int, PAY_AMT5: int, PAY_AMT6: int, default payment next month: int]>"
            ]
          },
          "metadata": {
            "tags": []
          },
          "execution_count": 7
        }
      ]
    },
    {
      "cell_type": "markdown",
      "metadata": {
        "id": "GnhbcVkyvzcz",
        "colab_type": "text"
      },
      "source": [
        "## Feature Engineering"
      ]
    },
    {
      "cell_type": "code",
      "metadata": {
        "id": "BcHZfwZuqIg0",
        "colab_type": "code",
        "colab": {}
      },
      "source": [
        "\n",
        "# feature engineering\n",
        "X_columns = data.columns[:-1]\n",
        "y_column = data.columns[-1]"
      ],
      "execution_count": 0,
      "outputs": []
    },
    {
      "cell_type": "code",
      "metadata": {
        "id": "GV1sW-iSqIjd",
        "colab_type": "code",
        "colab": {}
      },
      "source": [
        "# Create the features column\n",
        "vecAssembler = VectorAssembler(inputCols=X_columns, outputCol=\"features\")\n",
        "data = vecAssembler.transform(data)\n",
        "\n",
        "# Split the data into training and test sets (80% held out for testing)\n",
        "(trainingData, testData) = data.randomSplit([0.8, 0.2])"
      ],
      "execution_count": 0,
      "outputs": []
    },
    {
      "cell_type": "markdown",
      "metadata": {
        "id": "i9EkFnOqv6St",
        "colab_type": "text"
      },
      "source": [
        "## Model Training"
      ]
    },
    {
      "cell_type": "code",
      "metadata": {
        "id": "9vLCcvg6qImf",
        "colab_type": "code",
        "outputId": "4b7532c7-fdad-459e-b924-63ee61c283cd",
        "colab": {
          "base_uri": "https://localhost:8080/",
          "height": 228
        }
      },
      "source": [
        "# Train a RandomForest model.\n",
        "rf = RandomForestClassifier(labelCol=y_column, numTrees=100)\n",
        "\n",
        "# Chain indexer and forest in a Pipeline\n",
        "pipeline = Pipeline(stages=[rf])\n",
        "\n",
        "# Train model.  This also runs the indexer.\n",
        "model = pipeline.fit(trainingData)\n",
        "\n",
        "# Make predictions.\n",
        "predictions = model.transform(testData)\n",
        "\n",
        "# Select example rows to display.\n",
        "predictions.select(\"prediction\", y_column, \"features\").show(5)\n",
        "\n",
        "rfModel = model.stages\n",
        "print(rfModel)  # summary only"
      ],
      "execution_count": 10,
      "outputs": [
        {
          "output_type": "stream",
          "text": [
            "+----------+--------------------------+--------------------+\n",
            "|prediction|default payment next month|            features|\n",
            "+----------+--------------------------+--------------------+\n",
            "|       0.0|                         0|[8.0,100000.0,2.0...|\n",
            "|       0.0|                         0|[9.0,140000.0,2.0...|\n",
            "|       0.0|                         1|[24.0,450000.0,2....|\n",
            "|       0.0|                         0|[26.0,50000.0,1.0...|\n",
            "|       0.0|                         0|[29.0,50000.0,2.0...|\n",
            "+----------+--------------------------+--------------------+\n",
            "only showing top 5 rows\n",
            "\n",
            "[RandomForestClassificationModel (uid=RandomForestClassifier_eb084d55a31a) with 100 trees]\n"
          ],
          "name": "stdout"
        }
      ]
    },
    {
      "cell_type": "markdown",
      "metadata": {
        "id": "J2wrGhA0v-qb",
        "colab_type": "text"
      },
      "source": [
        "## Model Evaluation"
      ]
    },
    {
      "cell_type": "code",
      "metadata": {
        "id": "VWbBsV0mqiw5",
        "colab_type": "code",
        "outputId": "71a64ee1-9372-48f2-8552-848cad476ca4",
        "colab": {
          "base_uri": "https://localhost:8080/",
          "height": 70
        }
      },
      "source": [
        "# Select (prediction, true label) and compute test error\n",
        "evaluator = MulticlassClassificationEvaluator(labelCol=y_column, predictionCol=\"prediction\", metricName=\"weightedPrecision\")\n",
        "mae = evaluator.evaluate(predictions)\n",
        "print(\"Precision on test data = %g\" % mae)\n",
        "\n",
        "evaluator = MulticlassClassificationEvaluator(labelCol=y_column, predictionCol=\"prediction\", metricName=\"weightedRecall\")\n",
        "rmse = evaluator.evaluate(predictions)\n",
        "print(\"Recall on test data = %g\" % rmse)\n",
        "\n",
        "rfModel = model.stages\n",
        "print(rfModel)  # summary only"
      ],
      "execution_count": 11,
      "outputs": [
        {
          "output_type": "stream",
          "text": [
            "Precision on test data = 0.812222\n",
            "Recall on test data = 0.828491\n",
            "[RandomForestClassificationModel (uid=RandomForestClassifier_eb084d55a31a) with 100 trees]\n"
          ],
          "name": "stdout"
        }
      ]
    },
    {
      "cell_type": "code",
      "metadata": {
        "id": "zHVVgy5-wYAu",
        "colab_type": "code",
        "colab": {}
      },
      "source": [
        ""
      ],
      "execution_count": 0,
      "outputs": []
    }
  ]
}